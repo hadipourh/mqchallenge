{
 "cells": [
  {
   "cell_type": "code",
   "execution_count": 293,
   "metadata": {},
   "outputs": [],
   "source": [
    "reset()\n",
    "import sys\n",
    "# inputfile_name = sys.argv[1]\n",
    "inputfile_name = \"ToyExample-type1-n10-seed0\"\n",
    "with open(inputfile_name, 'r') as inputfile:\n",
    "    file_contents = inputfile.readlines()\n",
    "field_line = file_contents[0].split(\" : \")[1]\n",
    "field_line = field_line.replace(\" \", \"\")\n",
    "if \"/\" in field_line:\n",
    "    field_line = field_line.split(\"/\")\n",
    "    R = sage_eval(field_line[0],locals={'x':x})\n",
    "    F = R.base()\n",
    "    modulus_poly = R(symbolic_expression(field_line[1]))\n",
    "    base_field = F.extension(modulus_poly, 'a', repr='int')\n",
    "    str_to_field_element = lambda t: base_field(list(map(int, list(bin(int(t, 16))[:1:-1]))))\n",
    "else:\n",
    "    base_field = sage_eval(file_contents[0].split(\" : \")[1])\n",
    "    str_to_field_element = lambda t: base_field(t)\n",
    "number_of_variables = int(file_contents[1].split(\" : \")[1])\n",
    "number_of_equations = int(file_contents[2].split(\" : \")[1])\n",
    "monomial_order = file_contents[4].split(\" : \")[1]\n",
    "polynomial_ring = PolynomialRing(base_field, number_of_variables, names='x', order='degrevlex')\n",
    "exponents = IntegerVectors(2, number_of_variables, max_part=2).list()\n",
    "quadratic_monomials = []\n",
    "for e in exponents:\n",
    "    quadratic_monomials.append(polynomial_ring.monomial(*e))\n",
    "linear_monomials = []\n",
    "for var in polynomial_ring.gens():\n",
    "    linear_monomials.append(var)\n",
    "monomials = quadratic_monomials + linear_monomials + [1]\n",
    "monomials.sort(reverse=True)\n",
    "monomials = matrix(monomials).transpose()\n",
    "# coefficient_matrix = matrix(base_field, number_of_equations, number_of_variables)\n",
    "coefficient_matrix = []\n",
    "for i in range(7, 7 + number_of_equations):\n",
    "    row = file_contents[i].replace(\" ;\", \"\")\n",
    "    row = row.split(\" \")\n",
    "    coefficient_matrix.append(list(map(str_to_field_element, row)))\n",
    "coefficient_matrix = matrix(coefficient_matrix)\n",
    "polynomials = coefficient_matrix*monomials\n",
    "if base_field == GF(2):\n",
    "    flt = lambda x: x if (not x.is_square() or x.is_constant()) else x.variable()\n",
    "    simplifier = lambda f : sum(list(map(flt, f.monomials())))\n",
    "    simplified_equations = []\n",
    "    for row in polynomials.rows():\n",
    "        simplified_equations.append(simplifier(row[0]))\n",
    "    equations = simplified_equations\n",
    "    equations_str = list(map(str, equations))\n",
    "else:\n",
    "    equations = []\n",
    "    for row in polynomials.rows():\n",
    "        equations.append(row[0])\n",
    "    equations_str = list(map(str, equations))\n",
    "with open('equations.txt', 'w') as file:\n",
    "    file.write(\"Base field: %s\\n\" % str(base_field))\n",
    "    file.write(\"Modulus: %s\\n\" % str(base_field.modulus()))\n",
    "    for eq in equations_str:\n",
    "        file.write(eq)\n",
    "        file.write('\\n')"
   ]
  },
  {
   "cell_type": "code",
   "execution_count": 290,
   "metadata": {},
   "outputs": [
    {
     "name": "stdout",
     "output_type": "stream",
     "text": [
      "This is not a zero dimensional ideal\n"
     ]
    }
   ],
   "source": [
    "ideal = Ideal(equations)\n",
    "grb = ideal.groebner_basis()\n",
    "if ideal.dimension() == 0:\n",
    "    %time sols = ideal.variety()\n",
    "else:\n",
    "    print(\"This is not a zero dimensional ideal\")"
   ]
  },
  {
   "cell_type": "code",
   "execution_count": null,
   "metadata": {},
   "outputs": [],
   "source": []
  }
 ],
 "metadata": {
  "kernelspec": {
   "display_name": "SageMath 9.1",
   "language": "sage",
   "name": "sagemath"
  },
  "language_info": {
   "codemirror_mode": {
    "name": "ipython",
    "version": 3
   },
   "file_extension": ".py",
   "mimetype": "text/x-python",
   "name": "python",
   "nbconvert_exporter": "python",
   "pygments_lexer": "ipython3",
   "version": "3.7.3"
  }
 },
 "nbformat": 4,
 "nbformat_minor": 2
}
